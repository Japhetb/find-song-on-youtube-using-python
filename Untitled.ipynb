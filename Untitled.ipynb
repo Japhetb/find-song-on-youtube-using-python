{
 "cells": [
  {
   "cell_type": "code",
   "execution_count": 1,
   "id": "national-qualification",
   "metadata": {},
   "outputs": [
    {
     "name": "stdout",
     "output_type": "stream",
     "text": [
      "diamond\n",
      "diamond song\n"
     ]
    }
   ],
   "source": [
    "from tkinter import *\n",
    "import speech_recognition as sr\n",
    "import pyttsx3\n",
    "import pywhatkit\n",
    "import wikipedia\n",
    "\n",
    "\n",
    "\n",
    "root=Tk()\n",
    "root.title('Simple output')\n",
    "root.geometry('600x400')\n",
    "\n",
    "\n",
    "def myDelete():\n",
    "     mylabel.pack_forget()\n",
    "def myClick():\n",
    "    global mylabel\n",
    "    mass=e.get()\n",
    "    mass.lower()\n",
    "    song= mass +\" song\"\n",
    "    pywhatkit.playonyt(song)\n",
    "    info=wikipedia.summary(mass,2)\n",
    "    mylabel=Message(root,text=info,aspect=600)\n",
    "    mylabel.pack()\n",
    "    \n",
    "    \n",
    "       \n",
    "\n",
    "mylabel=Label(root,text=\"Enter the name of the artiste\")\n",
    "mylabel.pack() \n",
    "e=Entry(root,width=35,borderwidth=5)\n",
    "e.pack()\n",
    "myButoon=Button(root,text=\"Find the song on youtube\",command=myClick)\n",
    "myButoon.pack()\n",
    "deletebutton=Button(root,text=\"Delete\",command=myDelete)\n",
    "deletebutton.pack()\n",
    "\n",
    "\n",
    "root.mainloop()"
   ]
  },
  {
   "cell_type": "code",
   "execution_count": null,
   "id": "greatest-report",
   "metadata": {},
   "outputs": [],
   "source": [
    "\n",
    "        \n",
    "\n",
    "\n"
   ]
  },
  {
   "cell_type": "code",
   "execution_count": null,
   "id": "norman-admission",
   "metadata": {},
   "outputs": [],
   "source": []
  },
  {
   "cell_type": "code",
   "execution_count": null,
   "id": "helpful-deficit",
   "metadata": {},
   "outputs": [],
   "source": [
    "\n"
   ]
  },
  {
   "cell_type": "code",
   "execution_count": null,
   "id": "ethical-louisville",
   "metadata": {},
   "outputs": [],
   "source": []
  }
 ],
 "metadata": {
  "kernelspec": {
   "display_name": "Python 3",
   "language": "python",
   "name": "python3"
  },
  "language_info": {
   "codemirror_mode": {
    "name": "ipython",
    "version": 3
   },
   "file_extension": ".py",
   "mimetype": "text/x-python",
   "name": "python",
   "nbconvert_exporter": "python",
   "pygments_lexer": "ipython3",
   "version": "3.7.10"
  }
 },
 "nbformat": 4,
 "nbformat_minor": 5
}
